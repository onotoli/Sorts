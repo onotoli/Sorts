{
  "nbformat": 4,
  "nbformat_minor": 0,
  "metadata": {
    "colab": {
      "provenance": [],
      "authorship_tag": "ABX9TyPm84xU6ty+hJsZtaoiCcZR",
      "include_colab_link": true
    },
    "kernelspec": {
      "name": "python3",
      "display_name": "Python 3"
    },
    "language_info": {
      "name": "python"
    }
  },
  "cells": [
    {
      "cell_type": "markdown",
      "metadata": {
        "id": "view-in-github",
        "colab_type": "text"
      },
      "source": [
        "<a href=\"https://colab.research.google.com/github/onotoli/Sorts/blob/master/lab2.ipynb\" target=\"_parent\"><img src=\"https://colab.research.google.com/assets/colab-badge.svg\" alt=\"Open In Colab\"/></a>"
      ]
    },
    {
      "cell_type": "code",
      "source": [
        "from matplotlib import pyplot as plt\n",
        "import pandas as pd\n",
        "import numpy as np\n",
        "from scipy.optimize import curve_fit"
      ],
      "metadata": {
        "id": "GBUrNRoOwlZ_"
      },
      "execution_count": null,
      "outputs": []
    },
    {
      "cell_type": "markdown",
      "source": [
        "# **Сортировки**"
      ],
      "metadata": {
        "id": "UdjMfUGQEZwO"
      }
    },
    {
      "cell_type": "markdown",
      "source": [
        "# **Расчёска**"
      ],
      "metadata": {
        "id": "KEeAyghcEgis"
      }
    },
    {
      "cell_type": "code",
      "execution_count": null,
      "metadata": {
        "id": "o-48riN3vGSM"
      },
      "outputs": [],
      "source": [
        "comb_time = pd.read_csv(\"comb_time.csv\", delimiter=\";\", names=['N', 'time'])\n",
        "comb_count = pd.read_csv(\"comb_count.csv\", delimiter=\";\", names=['N', 'count'])\n",
        "comb_time_log = np.log(comb_time)\n",
        "comb_count_log = np.log(comb_count)"
      ]
    },
    {
      "cell_type": "code",
      "source": [
        "mnk_time = np.log(comb_time.iloc[3:])"
      ],
      "metadata": {
        "id": "EQSPTiCfK63G"
      },
      "execution_count": null,
      "outputs": []
    },
    {
      "cell_type": "code",
      "source": [
        "a = plt.subplot()\n",
        "a.scatter(comb_time['N'], comb_time['time'], color=(1, 0 , 0))\n",
        "plt.title(\"Расческа\")\n",
        "a.set_xlabel(\"Число элементов в массиве\")\n",
        "a.set_ylabel(\"Время обработки\")"
      ],
      "metadata": {
        "colab": {
          "base_uri": "https://localhost:8080/",
          "height": 312
        },
        "id": "U_BM05Z-zaPs",
        "outputId": "3a80e638-8f8d-4d16-87fc-34d1104bca96"
      },
      "execution_count": null,
      "outputs": [
        {
          "output_type": "execute_result",
          "data": {
            "text/plain": [
              "Text(0, 0.5, 'Время обработки')"
            ]
          },
          "metadata": {},
          "execution_count": 24
        },
        {
          "output_type": "display_data",
          "data": {
            "text/plain": [
              "<Figure size 432x288 with 1 Axes>"
            ],
            "image/png": "[encoded data removed]"
          },
          "metadata": {
            "needs_background": "light"
          }
        }
      ]
    },
    {
      "cell_type": "code",
      "source": [
        "a = plt.subplot()\n",
        "a.scatter(comb_count['N'], comb_count['count'], color=(1, 0 , 0), alpha=1)\n",
        "plt.title(\"Полный перебор\")\n",
        "a.set_xlabel(\"Число элементов в массиве\")\n",
        "a.set_ylabel(\"Количество перестановок\")"
      ],
      "metadata": {
        "colab": {
          "base_uri": "https://localhost:8080/",
          "height": 312
        },
        "id": "xovXBzJjzrSU",
        "outputId": "f8771368-2516-418d-aa75-8127c43abf92"
      },
      "execution_count": null,
      "outputs": [
        {
          "output_type": "execute_result",
          "data": {
            "text/plain": [
              "Text(0, 0.5, 'Количество перестановок')"
            ]
          },
          "metadata": {},
          "execution_count": 25
        },
        {
          "output_type": "display_data",
          "data": {
            "text/plain": [
              "<Figure size 432x288 with 1 Axes>"
            ],
            "image/png": "[encoded data removed]"
          },
          "metadata": {
            "needs_background": "light"
          }
        }
      ]
    },
    {
      "cell_type": "markdown",
      "source": [
        "# Построим графики в логарифмических координатах"
      ],
      "metadata": {
        "id": "A39wpzRHEpXT"
      }
    },
    {
      "cell_type": "code",
      "source": [
        "def line(x, a, b):\n",
        "    return a*x+b\n",
        "\n",
        "popt, useless = curve_fit(line, mnk_time[\"N\"].tolist(), mnk_time[\"time\"].tolist())\n",
        "\n",
        "a, b = popt\n",
        "\n",
        "y = line(mnk_time['N'], a, b)\n",
        "a, b"
      ],
      "metadata": {
        "colab": {
          "base_uri": "https://localhost:8080/"
        },
        "id": "tT-nd1ivNEvY",
        "outputId": "2a5b5825-9efb-40cf-9805-cf65454c59da"
      },
      "execution_count": null,
      "outputs": [
        {
          "output_type": "execute_result",
          "data": {
            "text/plain": [
              "(3.9216692681895067, -20.44222465371824)"
            ]
          },
          "metadata": {},
          "execution_count": 26
        }
      ]
    },
    {
      "cell_type": "code",
      "source": [
        "a = plt.subplot()\n",
        "a.scatter(comb_time_log['N'], comb_time_log['time'], color=(1, 0 , 0), alpha=1)\n",
        "a.plot(mnk_time['N'], y, color=(0, 0, 1))\n",
        "plt.title(\"Расческа\")\n",
        "a.set_xlabel(\"Число элементов в массиве\")\n",
        "a.set_ylabel(\"Время обработки\")"
      ],
      "metadata": {
        "colab": {
          "base_uri": "https://localhost:8080/",
          "height": 312
        },
        "id": "PHWEhMMq91Gs",
        "outputId": "8ef0f396-aef9-4e94-96fb-08c9e39566bc"
      },
      "execution_count": null,
      "outputs": [
        {
          "output_type": "execute_result",
          "data": {
            "text/plain": [
              "Text(0, 0.5, 'Время обработки')"
            ]
          },
          "metadata": {},
          "execution_count": 27
        },
        {
          "output_type": "display_data",
          "data": {
            "text/plain": [
              "<Figure size 432x288 with 1 Axes>"
            ],
            "image/png": "[encoded data removed]"
          },
          "metadata": {
            "needs_background": "light"
          }
        }
      ]
    },
    {
      "cell_type": "markdown",
      "source": [
        "Как понятно из коэффицинта a = 3.9 наклона графика, время имеет асимтотику O(N^4), что странно, так как асимптотика должна быть квадратичной"
      ],
      "metadata": {
        "id": "R00wdRXsE1Nx"
      }
    },
    {
      "cell_type": "code",
      "source": [
        "popt, useless = curve_fit(line, comb_count_log[\"N\"].tolist(), comb_count_log[\"count\"].tolist())\n",
        "\n",
        "a, b = popt\n",
        "\n",
        "y = line(comb_count_log['N'], a, b)\n",
        "a, b"
      ],
      "metadata": {
        "colab": {
          "base_uri": "https://localhost:8080/"
        },
        "id": "RqFt8_zSQYP6",
        "outputId": "8981f632-d6f1-4833-c351-020e14fbab7f"
      },
      "execution_count": null,
      "outputs": [
        {
          "output_type": "execute_result",
          "data": {
            "text/plain": [
              "(2.0109865180083055, -1.4982512948511286)"
            ]
          },
          "metadata": {},
          "execution_count": 78
        }
      ]
    },
    {
      "cell_type": "code",
      "source": [
        "a = plt.subplot()\n",
        "a.scatter(comb_count_log['N'], comb_count_log['count'], color=(1, 0 , 0))\n",
        "a.plot(comb_count_log['N'], y, color=(0, 0, 1))\n",
        "plt.title(\"Расческа\")\n",
        "a.set_xlabel(\"Число элементов в массиве\")\n",
        "a.set_ylabel(\"Количество перестановок\")"
      ],
      "metadata": {
        "colab": {
          "base_uri": "https://localhost:8080/",
          "height": 312
        },
        "id": "4DhVmqii-Bj3",
        "outputId": "ef1911ae-a9c8-40d7-e7ab-1165901a7b90"
      },
      "execution_count": null,
      "outputs": [
        {
          "output_type": "execute_result",
          "data": {
            "text/plain": [
              "Text(0, 0.5, 'Количество перестановок')"
            ]
          },
          "metadata": {},
          "execution_count": 79
        },
        {
          "output_type": "display_data",
          "data": {
            "text/plain": [
              "<Figure size 432x288 with 1 Axes>"
            ],
            "image/png": "[encoded data removed]"
          },
          "metadata": {
            "needs_background": "light"
          }
        }
      ]
    },
    {
      "cell_type": "markdown",
      "source": [
        "Здесь a = 2.0, то есть количество перестановок от длины массива имеет квадратичную асимптотику, как и было предсказано теоретически"
      ],
      "metadata": {
        "id": "n9H5Yc8wFYTj"
      }
    },
    {
      "cell_type": "markdown",
      "source": [
        "# **Сортировка Шелла**"
      ],
      "metadata": {
        "id": "oygpEBCqF81n"
      }
    },
    {
      "cell_type": "markdown",
      "source": [
        "# Определим асимптотическую сложность сортировки Шелла для разных последовательностей шагов в грубых проходах"
      ],
      "metadata": {
        "id": "DtecA5yTIs-G"
      }
    },
    {
      "cell_type": "markdown",
      "source": [
        "# Начнём с последовательности, в которой каждый элемент в два раза меньше предыдущего"
      ],
      "metadata": {
        "id": "QZzHQWpPJACn"
      }
    },
    {
      "cell_type": "code",
      "source": [
        "shell1 = pd.read_csv(\"shell1.csv\", delimiter=\";\", names=['N', 'time'])"
      ],
      "metadata": {
        "id": "tOcRZCxLVEPS"
      },
      "execution_count": null,
      "outputs": []
    },
    {
      "cell_type": "markdown",
      "source": [
        "Построим график зависимости времени исполнения сортировки от длины массива"
      ],
      "metadata": {
        "id": "Myj-y4oXaJpk"
      }
    },
    {
      "cell_type": "code",
      "source": [
        "a = plt.subplot()\n",
        "a.scatter(shell1['N'], shell1['time'], color=(1, 0 , 0))\n",
        "plt.title(\"Шелл\")\n",
        "a.set_xlabel(\"Число элементов в массиве\")\n",
        "a.set_ylabel(\"Время обработки\")"
      ],
      "metadata": {
        "colab": {
          "base_uri": "https://localhost:8080/",
          "height": 312
        },
        "id": "edO4tNkEVaW7",
        "outputId": "bbcd20d7-98cf-471f-dbcb-a00165f76202"
      },
      "execution_count": null,
      "outputs": [
        {
          "output_type": "execute_result",
          "data": {
            "text/plain": [
              "Text(0, 0.5, 'Время обработки')"
            ]
          },
          "metadata": {},
          "execution_count": 7
        },
        {
          "output_type": "display_data",
          "data": {
            "text/plain": [
              "<Figure size 432x288 with 1 Axes>"
            ],
            "image/png": "[encoded data removed]"
          },
          "metadata": {
            "needs_background": "light"
          }
        }
      ]
    },
    {
      "cell_type": "code",
      "source": [
        "shell1_log = np.log(shell1)"
      ],
      "metadata": {
        "id": "xiu-i2JfYtqf"
      },
      "execution_count": null,
      "outputs": []
    },
    {
      "cell_type": "code",
      "source": [
        "def line(x, a, b):\n",
        "    return a*x+b\n",
        "\n",
        "popt, useless = curve_fit(line, shell1_log[\"N\"].tolist(), shell1_log[\"time\"].tolist())\n",
        "\n",
        "a, b = popt\n",
        "\n",
        "y = line(shell1_log['N'], a, b)\n",
        "a, b"
      ],
      "metadata": {
        "colab": {
          "base_uri": "https://localhost:8080/"
        },
        "id": "PaYs3I6rZAKP",
        "outputId": "0a017677-d9ba-468f-fe85-5d5d808e86f5"
      },
      "execution_count": null,
      "outputs": [
        {
          "output_type": "execute_result",
          "data": {
            "text/plain": [
              "(2.0035478907152378, -15.945889363155485)"
            ]
          },
          "metadata": {},
          "execution_count": 9
        }
      ]
    },
    {
      "cell_type": "markdown",
      "source": [
        "Теперь построим график в логарифмических координатах"
      ],
      "metadata": {
        "id": "2tGlOOFWaVQ6"
      }
    },
    {
      "cell_type": "code",
      "source": [
        "a = plt.subplot()\n",
        "a.scatter(shell1_log['N'], shell1_log['time'], color=(1, 0 , 0))\n",
        "a.plot(shell1_log['N'], y, color=(0, 0, 1))\n",
        "plt.title(\"Шелл\")\n",
        "a.set_xlabel(\"Число элементов в массиве\")\n",
        "a.set_ylabel(\"Время обработки\")"
      ],
      "metadata": {
        "colab": {
          "base_uri": "https://localhost:8080/",
          "height": 312
        },
        "id": "mg2330tVZO-X",
        "outputId": "894bf7fa-11af-45dd-8012-a135610eda6c"
      },
      "execution_count": null,
      "outputs": [
        {
          "output_type": "execute_result",
          "data": {
            "text/plain": [
              "Text(0, 0.5, 'Время обработки')"
            ]
          },
          "metadata": {},
          "execution_count": 11
        },
        {
          "output_type": "display_data",
          "data": {
            "text/plain": [
              "<Figure size 432x288 with 1 Axes>"
            ],
            "image/png": "[encoded data removed]"
          },
          "metadata": {
            "needs_background": "light"
          }
        }
      ]
    },
    {
      "cell_type": "markdown",
      "source": [
        "Коэффициент наклона графика в логарифмических координатах равен 2, значит время имеет квадратичную асимптотику, как и было предсказано теоретически"
      ],
      "metadata": {
        "id": "C0S_USjSZ2OI"
      }
    },
    {
      "cell_type": "markdown",
      "source": [
        "# Сделаем тоже самое, но теперь последовательностью шагов в грубых проходах будет последовательность Хиббарда"
      ],
      "metadata": {
        "id": "vtNyv7OnaxAU"
      }
    },
    {
      "cell_type": "code",
      "source": [
        "shell2 = pd.read_csv(\"shell2.csv\", delimiter=\";\", names=['N', 'time'])"
      ],
      "metadata": {
        "id": "A5K-mOued1NE"
      },
      "execution_count": null,
      "outputs": []
    },
    {
      "cell_type": "markdown",
      "source": [
        "Построим график зависимости времени исполнения сортировки от длины массива"
      ],
      "metadata": {
        "id": "GbneJ6wuhwds"
      }
    },
    {
      "cell_type": "code",
      "source": [
        "a = plt.subplot()\n",
        "a.scatter(shell2['N'], shell2['time'], color=(1, 0 , 0))\n",
        "plt.title(\"Шелл\")\n",
        "a.set_xlabel(\"Число элементов в массиве\")\n",
        "a.set_ylabel(\"Время обработки\")"
      ],
      "metadata": {
        "colab": {
          "base_uri": "https://localhost:8080/",
          "height": 312
        },
        "id": "lfO5E47Rd5Fj",
        "outputId": "458dd30a-7a7f-480d-da22-bad61f5b8503"
      },
      "execution_count": null,
      "outputs": [
        {
          "output_type": "execute_result",
          "data": {
            "text/plain": [
              "Text(0, 0.5, 'Время обработки')"
            ]
          },
          "metadata": {},
          "execution_count": 13
        },
        {
          "output_type": "display_data",
          "data": {
            "text/plain": [
              "<Figure size 432x288 with 1 Axes>"
            ],
            "image/png": "[encoded data removed]"
          },
          "metadata": {
            "needs_background": "light"
          }
        }
      ]
    },
    {
      "cell_type": "code",
      "source": [
        "shell2_log = np.log(shell2)"
      ],
      "metadata": {
        "id": "iGSRdWN6d6o4"
      },
      "execution_count": null,
      "outputs": []
    },
    {
      "cell_type": "markdown",
      "source": [
        "Теперь построим график в логарифмических координатах"
      ],
      "metadata": {
        "id": "i2y7JNsnhtEN"
      }
    },
    {
      "cell_type": "code",
      "source": [
        "popt, useless = curve_fit(line, shell2_log[\"N\"].tolist(), shell2_log[\"time\"].tolist())\n",
        "\n",
        "a, b = popt\n",
        "\n",
        "y = line(shell2_log['N'], a, b)\n",
        "a, b"
      ],
      "metadata": {
        "colab": {
          "base_uri": "https://localhost:8080/"
        },
        "id": "sIMaD32qd94k",
        "outputId": "387f4ad7-68aa-45c0-af39-626a7513e43f"
      },
      "execution_count": null,
      "outputs": [
        {
          "output_type": "execute_result",
          "data": {
            "text/plain": [
              "(2.0326176207874402, -18.296748411559527)"
            ]
          },
          "metadata": {},
          "execution_count": 15
        }
      ]
    },
    {
      "cell_type": "code",
      "source": [
        "a = plt.subplot()\n",
        "a.scatter(shell2_log['N'], shell2_log['time'], color=(1, 0 , 0))\n",
        "a.plot(shell2_log['N'], y, color=(0, 0, 1))\n",
        "plt.title(\"Шелл\")\n",
        "a.set_xlabel(\"Число элементов в массиве\")\n",
        "a.set_ylabel(\"Время обработки\")"
      ],
      "metadata": {
        "colab": {
          "base_uri": "https://localhost:8080/",
          "height": 312
        },
        "id": "aZOLRKNweFkg",
        "outputId": "4b51d124-17b0-431a-dad9-070f80411c6a"
      },
      "execution_count": null,
      "outputs": [
        {
          "output_type": "execute_result",
          "data": {
            "text/plain": [
              "Text(0, 0.5, 'Время обработки')"
            ]
          },
          "metadata": {},
          "execution_count": 16
        },
        {
          "output_type": "display_data",
          "data": {
            "text/plain": [
              "<Figure size 432x288 with 1 Axes>"
            ],
            "image/png": "[encoded data removed]"
          },
          "metadata": {
            "needs_background": "light"
          }
        }
      ]
    },
    {
      "cell_type": "markdown",
      "source": [
        "В данном случае асимптотика тоже квадратичная, но алгоритм исполнился примерно в 10 раз быстрее"
      ],
      "metadata": {
        "id": "niOjAP1keXLS"
      }
    },
    {
      "cell_type": "markdown",
      "source": [
        "# Теперь проделаем тоже самое для последовательности Фиббоначи"
      ],
      "metadata": {
        "id": "4YQqEpHxenEP"
      }
    },
    {
      "cell_type": "code",
      "source": [
        "shell3 = pd.read_csv(\"shell3.csv\", delimiter=\";\", names=['N', 'time'])"
      ],
      "metadata": {
        "id": "8QjqXjo7ewOP"
      },
      "execution_count": null,
      "outputs": []
    },
    {
      "cell_type": "markdown",
      "source": [
        "Построим график зависимости времени исполнения сортировки от длины массива"
      ],
      "metadata": {
        "id": "5RFROvxGhx94"
      }
    },
    {
      "cell_type": "code",
      "source": [
        "a = plt.subplot()\n",
        "a.scatter(shell3['N'], shell3['time'], color=(1, 0 , 0))\n",
        "plt.title(\"Шелл\")\n",
        "a.set_xlabel(\"Число элементов в массиве\")\n",
        "a.set_ylabel(\"Время обработки\")"
      ],
      "metadata": {
        "colab": {
          "base_uri": "https://localhost:8080/",
          "height": 312
        },
        "id": "SJGr6wLchU6k",
        "outputId": "b2e0f556-eb13-4191-dd31-104786409faf"
      },
      "execution_count": null,
      "outputs": [
        {
          "output_type": "execute_result",
          "data": {
            "text/plain": [
              "Text(0, 0.5, 'Время обработки')"
            ]
          },
          "metadata": {},
          "execution_count": 18
        },
        {
          "output_type": "display_data",
          "data": {
            "text/plain": [
              "<Figure size 432x288 with 1 Axes>"
            ],
            "image/png": "[encoded data removed]"
          },
          "metadata": {
            "needs_background": "light"
          }
        }
      ]
    },
    {
      "cell_type": "code",
      "source": [
        "shell3_log = np.log(shell2)"
      ],
      "metadata": {
        "id": "A-j8knzphWuI"
      },
      "execution_count": null,
      "outputs": []
    },
    {
      "cell_type": "markdown",
      "source": [
        "Теперь построим график в логарифмических координатах"
      ],
      "metadata": {
        "id": "ucQaKwFXh00p"
      }
    },
    {
      "cell_type": "code",
      "source": [
        "popt, useless = curve_fit(line, shell3_log[\"N\"].tolist(), shell3_log[\"time\"].tolist())\n",
        "\n",
        "a, b = popt\n",
        "\n",
        "y = line(shell3_log['N'], a, b)\n",
        "a, b"
      ],
      "metadata": {
        "colab": {
          "base_uri": "https://localhost:8080/"
        },
        "id": "iI9sMKEqhX_b",
        "outputId": "c4603fe9-779c-4a9d-eb0b-79921ff5aa69"
      },
      "execution_count": null,
      "outputs": [
        {
          "output_type": "execute_result",
          "data": {
            "text/plain": [
              "(2.0326176207874402, -18.296748411559527)"
            ]
          },
          "metadata": {},
          "execution_count": 20
        }
      ]
    },
    {
      "cell_type": "code",
      "source": [
        "a = plt.subplot()\n",
        "a.scatter(shell3_log['N'], shell3_log['time'], color=(1, 0 , 0))\n",
        "a.plot(shell3_log['N'], y, color=(0, 0, 1))\n",
        "plt.title(\"Шелл\")\n",
        "a.set_xlabel(\"Число элементов в массиве\")\n",
        "a.set_ylabel(\"Время обработки\")"
      ],
      "metadata": {
        "colab": {
          "base_uri": "https://localhost:8080/",
          "height": 312
        },
        "id": "uzW4ws0HhZYY",
        "outputId": "6ebe7ec4-19e9-400b-9682-b6fd66322586"
      },
      "execution_count": null,
      "outputs": [
        {
          "output_type": "execute_result",
          "data": {
            "text/plain": [
              "Text(0, 0.5, 'Время обработки')"
            ]
          },
          "metadata": {},
          "execution_count": 21
        },
        {
          "output_type": "display_data",
          "data": {
            "text/plain": [
              "<Figure size 432x288 with 1 Axes>"
            ],
            "image/png": "[encoded data removed]"
          },
          "metadata": {
            "needs_background": "light"
          }
        }
      ]
    },
    {
      "cell_type": "markdown",
      "source": [
        "Асимптотика опять квадратичная, но данный алгоритм -- самый медленный из всех. Возможно, это связано с тем, что при каждом вызове функции компьютер заново считает последовательность Фиббоначи."
      ],
      "metadata": {
        "id": "eqfQi67viAZN"
      }
    }
  ]
}